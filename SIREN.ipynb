{
 "cells": [
  {
   "cell_type": "code",
   "execution_count": null,
   "id": "ad12c04d",
   "metadata": {},
   "outputs": [],
   "source": [
    "!pip install librosa\n",
    "%load_ext autoreload\n",
    "%autoreload 2\n",
    "import numpy as np\n",
    "import matplotlib.pyplot as plt\n",
    "import IPython.display as ipd\n",
    "import torch\n",
    "from torch import nn\n",
    "from scipy import signal\n",
    "import glob\n",
    "import librosa\n",
    "import librosa.display\n",
    "import time\n",
    "import subprocess\n",
    "import os\n",
    "from scipy.io import wavfile\n",
    "!wget https://github.com/digitalmusicprocessing/Week13_SIREN/raw/refs/heads/main/doves.wav"
   ]
  },
  {
   "cell_type": "code",
   "execution_count": null,
   "id": "b6df583b-81cf-4a51-85a6-3e7025199d35",
   "metadata": {},
   "outputs": [],
   "source": [
    "class MLP(nn.Module):\n",
    "    def __init__(self, depth=3, n_input=1, n_output=1, n_units=512, normalize_weights=True, w0=5000):\n",
    "        super(MLP, self).__init__()\n",
    "        ## TODO: Fill this in\n",
    "        \n",
    "    def forward(self, x):\n",
    "        ## TODO: Fill this in\n",
    "        pass\n",
    "\n",
    "    def get_num_parameters(self):\n",
    "        total = 0\n",
    "        for p in self.parameters():\n",
    "            total += np.prod(p.shape)\n",
    "        return total\n",
    "\n",
    "device = torch.device('cuda' if torch.cuda.is_available() else 'cpu') \n",
    "print(\"Device: \", device)\n",
    "\n",
    "sr = 44100\n",
    "y, _ = librosa.load(\"doves.wav\", sr=sr)\n",
    "y = y[0:sr*4]\n",
    "N = y.size\n",
    "y = torch.from_numpy(y).to(device)\n",
    "t = torch.linspace(0, 1, N)\n",
    "t = t.view((N, 1)).to(device)"
   ]
  },
  {
   "cell_type": "code",
   "execution_count": null,
   "id": "f0d8b54c-a9e4-4959-92f6-863710063ff6",
   "metadata": {},
   "outputs": [],
   "source": [
    "model = MLP(depth=3, n_input=1, n_output=1, n_units=64, normalize_weights=True, w0=5000).to(device)\n",
    "print(\"Compression:\", model.get_num_parameters()/N)\n",
    "\n",
    "plt.plot(model(t).detach().cpu()[0:10000])\n",
    "ipd.Audio(model(t).detach().cpu().flatten(), rate=sr)"
   ]
  },
  {
   "cell_type": "code",
   "execution_count": null,
   "id": "a96d295d",
   "metadata": {},
   "outputs": [],
   "source": [
    "n_iters = 5000\n",
    "samples_per_iter = sr\n",
    "optimizer = torch.optim.Adam(model.parameters(), lr=1e-3)\n",
    "losses = []\n",
    "\n",
    "yest = model(t)\n",
    "\n",
    "for i in range(n_iters):\n",
    "    optimizer.zero_grad()\n",
    "    yest = model(t)\n",
    "    loss = torch.mean(torch.abs(y-yest.flatten()))\n",
    "    losses.append(loss.item())\n",
    "    loss.backward()\n",
    "    optimizer.step()\n",
    "    if i%100 == 0:\n",
    "        ipd.clear_output()\n",
    "        print(i, loss)\n",
    "\n",
    "plt.plot(losses)"
   ]
  },
  {
   "cell_type": "code",
   "execution_count": null,
   "id": "bc49c90f-6aa6-4b6a-a399-084a8ccd1ca5",
   "metadata": {},
   "outputs": [],
   "source": []
  }
 ],
 "metadata": {
  "kernelspec": {
   "display_name": "Python 3 (ipykernel)",
   "language": "python",
   "name": "python3"
  },
  "language_info": {
   "codemirror_mode": {
    "name": "ipython",
    "version": 3
   },
   "file_extension": ".py",
   "mimetype": "text/x-python",
   "name": "python",
   "nbconvert_exporter": "python",
   "pygments_lexer": "ipython3",
   "version": "3.11.11"
  }
 },
 "nbformat": 4,
 "nbformat_minor": 5
}
